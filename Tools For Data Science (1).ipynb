{
 "cells": [
  {
   "cell_type": "markdown",
   "metadata": {},
   "source": [
    "# My Jupyter Notebook In IBM Watson Studios"
   ]
  },
  {
   "cell_type": "markdown",
   "metadata": {},
   "source": [
    "**Dirk Hartog**\n",
    "\n",
    "Physical Therapist/Data Science Student "
   ]
  },
  {
   "cell_type": "markdown",
   "metadata": {},
   "source": [
    "*I am interested in how data can be used to develop strategies aimed at improving the delivery of healthcare in the United States.* \n",
    "*Data science is a feild of study that I belive can provide me with the necessary tools and skills to be a part of a team that attempts to solve these issues*"
   ]
  },
  {
   "cell_type": "markdown",
   "metadata": {},
   "source": [
    "### This code asks the user for their name and outputs a greeting. "
   ]
  },
  {
   "cell_type": "code",
   "execution_count": 2,
   "metadata": {},
   "outputs": [
    {
     "name": "stdin",
     "output_type": "stream",
     "text": [
      "What is your name? Dirk\n"
     ]
    },
    {
     "name": "stdout",
     "output_type": "stream",
     "text": [
      "Greetings Dirk!\n"
     ]
    }
   ],
   "source": [
    "while True:\n",
    "    name =  input(\"What is your name?\")\n",
    "    if len(name) == 0:\n",
    "        print (\"Try again. Please enter your name.\")\n",
    "    else: \n",
    "        print (\"Greetings\",name + \"!\")\n",
    "        break\n",
    "\n",
    "    "
   ]
  },
  {
   "cell_type": "markdown",
   "metadata": {},
   "source": [
    "**Other Things About Me**\n",
    "+ I am also an artist that works with paper. Check out my instagram [here](https://www.instagram.com/dhartog/) \n",
    "+ I used to do gymnastics \n",
    "+ I am also enrolled in a Python programming course\n",
    "\n",
    ">“And I knew exactly what to do. But in a much more real sense, I had no idea what to do.” – Michael Scott, Season 5, “Stress Relief”\n"
   ]
  },
  {
   "cell_type": "code",
   "execution_count": null,
   "metadata": {},
   "outputs": [],
   "source": []
  }
 ],
 "metadata": {
  "kernelspec": {
   "display_name": "Python",
   "language": "python",
   "name": "conda-env-python-py"
  },
  "language_info": {
   "codemirror_mode": {
    "name": "ipython",
    "version": 3
   },
   "file_extension": ".py",
   "mimetype": "text/x-python",
   "name": "python",
   "nbconvert_exporter": "python",
   "pygments_lexer": "ipython3",
   "version": "3.7.12"
  }
 },
 "nbformat": 4,
 "nbformat_minor": 4
}
